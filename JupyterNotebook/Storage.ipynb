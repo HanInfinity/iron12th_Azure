{
 "cells": [
  {
   "cell_type": "markdown",
   "metadata": {},
   "source": [
    "# Blob\n",
    "\n",
    "`pip install azure-storage-blob`"
   ]
  },
  {
   "cell_type": "code",
   "execution_count": 27,
   "metadata": {},
   "outputs": [
    {
     "name": "stdout",
     "output_type": "stream",
     "text": [
      "Azure Blob storage v12.5.0 - Python quickstart sample\n"
     ]
    }
   ],
   "source": [
    "import os, uuid\n",
    "from azure.storage.blob import BlobServiceClient, BlobClient, ContainerClient, __version__\n",
    "\n",
    "try:\n",
    "    print(\"Azure Blob storage v\" + __version__ + \" - Python quickstart sample\")\n",
    "    # Quick start code goes here\n",
    "except Exception as ex:\n",
    "    print('Exception:')\n",
    "    print(ex)"
   ]
  },
  {
   "cell_type": "code",
   "execution_count": 6,
   "metadata": {},
   "outputs": [
    {
     "name": "stdout",
     "output_type": "stream",
     "text": [
      "\n",
      "Listing blobs...\n",
      "\tKaoDistrict.html\n"
     ]
    }
   ],
   "source": [
    "from dotenv import load_dotenv\n",
    "\n",
    "load_dotenv()\n",
    "connect_str = os.getenv('AZURE_STORAGE_CONNECTION_STRING')\n",
    "\n",
    "# 建立 BlobServiceClient 物件\n",
    "blob_service_client = BlobServiceClient.from_connection_string(connect_str)\n",
    "# 設定已建立的container name\n",
    "container_name = \"tatamocontainer\"\n",
    "# 透過blob_service_client取得container client\n",
    "container_client = blob_service_client.get_container_client(container_name)\n",
    "\n",
    "print(\"\\nListing blobs...\")\n",
    "\n",
    "# 將tatamocontainer中的blob都列出來\n",
    "blob_list = container_client.list_blobs()\n",
    "for blob in blob_list:\n",
    "    print(\"\\t\" + blob.name)"
   ]
  },
  {
   "cell_type": "markdown",
   "metadata": {},
   "source": [
    "# Queue\n",
    "\n",
    "`pip install azure-storage-queue`"
   ]
  },
  {
   "cell_type": "code",
   "execution_count": 10,
   "metadata": {},
   "outputs": [
    {
     "name": "stdout",
     "output_type": "stream",
     "text": [
      "\n",
      "Adding messages to the queue...\n"
     ]
    }
   ],
   "source": [
    "import os, uuid\n",
    "from azure.storage.queue import QueueServiceClient, QueueClient, QueueMessage\n",
    "from dotenv import load_dotenv\n",
    "\n",
    "load_dotenv()\n",
    "connect_str = os.getenv('AZURE_STORAGE_CONNECTION_STRING')\n",
    "\n",
    "queue_name = 'taqueue'\n",
    "# Instantiate a QueueClient which will be\n",
    "# used to create and manipulate the queue\n",
    "queue_client = QueueClient.from_connection_string(connect_str, queue_name)\n",
    "print(\"\\nAdding messages to the queue...\")\n",
    "\n",
    "# Send several messages to the queue\n",
    "queue_client.send_message(u\"First message\")\n",
    "queue_client.send_message(u\"Second message\")\n",
    "saved_message = queue_client.send_message(u\"Third message\")\n"
   ]
  },
  {
   "cell_type": "code",
   "execution_count": 11,
   "metadata": {},
   "outputs": [
    {
     "name": "stdout",
     "output_type": "stream",
     "text": [
      "\n",
      "Peek at the messages in the queue...\n",
      "Message: First message\n",
      "Message: Second message\n",
      "Message: Third message\n"
     ]
    }
   ],
   "source": [
    "print(\"\\nPeek at the messages in the queue...\")\n",
    "\n",
    "# Peek at messages in the queue\n",
    "peeked_messages = queue_client.peek_messages(max_messages=5)\n",
    "\n",
    "for peeked_message in peeked_messages:\n",
    "    # Display the message\n",
    "    print(\"Message: \" + peeked_message.content)"
   ]
  },
  {
   "cell_type": "code",
   "execution_count": 12,
   "metadata": {},
   "outputs": [
    {
     "name": "stdout",
     "output_type": "stream",
     "text": [
      "\n",
      "Receiving messages from the queue...\n"
     ]
    }
   ],
   "source": [
    "print(\"\\nReceiving messages from the queue...\")\n",
    "\n",
    "# Get messages from the queue\n",
    "messages = queue_client.receive_messages(messages_per_page=5)"
   ]
  },
  {
   "cell_type": "code",
   "execution_count": 17,
   "metadata": {},
   "outputs": [
    {
     "name": "stdout",
     "output_type": "stream",
     "text": [
      "\n",
      "Receiving messages from the queue...\n"
     ]
    }
   ],
   "source": [
    "print(\"\\nReceiving messages from the queue...\")\n",
    "\n",
    "# Get messages from the queue\n",
    "messages = queue_client.receive_messages(messages_per_page=5)\n",
    "for message in messages:\n",
    "    # Display the message\n",
    "    print(\"Message: \" + str(message))"
   ]
  },
  {
   "cell_type": "markdown",
   "metadata": {},
   "source": [
    "# Table\n",
    "\n",
    "`pip install azure-cosmosdb-table`"
   ]
  },
  {
   "cell_type": "code",
   "execution_count": 18,
   "metadata": {},
   "outputs": [],
   "source": [
    "from azure.cosmosdb.table.tableservice import TableService\n",
    "from azure.cosmosdb.table.models import Entity\n",
    "\n",
    "from dotenv import load_dotenv\n",
    "\n",
    "load_dotenv()\n",
    "connect_str = os.getenv('AZURE_STORAGE_CONNECTION_STRING')\n",
    "table_service = TableService(connection_string=connect_str)\n",
    "\n",
    "# 建立並以dict型態至table\n",
    "task = {'PartitionKey': 'tasksSeattle', 'RowKey': '001',\n",
    "        'description': 'Take out the trash', 'priority': 200}\n",
    "table_service.insert_entity('tatable', task)"
   ]
  },
  {
   "cell_type": "code",
   "execution_count": 23,
   "metadata": {},
   "outputs": [
    {
     "data": {
      "text/plain": [
       "'W/\"datetime\\'2020-09-24T16%3A03%3A21.4118211Z\\'\"'"
      ]
     },
     "execution_count": 23,
     "metadata": {},
     "output_type": "execute_result"
    }
   ],
   "source": [
    "# 建立並以物件型態至table\n",
    "task = Entity()\n",
    "task.PartitionKey = 'tasksSeattle'\n",
    "task.RowKey = '002'\n",
    "task.description = 'Wash the car'\n",
    "task.priority = 100\n",
    "table_service.insert_entity('tatable', task)"
   ]
  },
  {
   "cell_type": "code",
   "execution_count": 26,
   "metadata": {
    "scrolled": true
   },
   "outputs": [
    {
     "name": "stdout",
     "output_type": "stream",
     "text": [
      "Take out the trash\n",
      "200\n",
      "tasksSeattle\n",
      "001\n",
      "-------\n",
      "Wash the car\n",
      "100\n",
      "tasksSeattle\n",
      "002\n",
      "-------\n"
     ]
    }
   ],
   "source": [
    "tasks = table_service.query_entities(\n",
    "    'tatable', filter=\"PartitionKey eq 'tasksSeattle'\")\n",
    "for task in tasks:\n",
    "    print(task.description)\n",
    "    print(task.priority)\n",
    "    print(task.PartitionKey)\n",
    "    print(task.RowKey)\n",
    "    print(\"-------\")"
   ]
  },
  {
   "cell_type": "code",
   "execution_count": null,
   "metadata": {},
   "outputs": [],
   "source": []
  }
 ],
 "metadata": {
  "kernelspec": {
   "display_name": "Python 3",
   "language": "python",
   "name": "python3"
  },
  "language_info": {
   "codemirror_mode": {
    "name": "ipython",
    "version": 3
   },
   "file_extension": ".py",
   "mimetype": "text/x-python",
   "name": "python",
   "nbconvert_exporter": "python",
   "pygments_lexer": "ipython3",
   "version": "3.7.6"
  }
 },
 "nbformat": 4,
 "nbformat_minor": 4
}
