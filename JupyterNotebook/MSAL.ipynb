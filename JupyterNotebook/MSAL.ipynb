{
 "cells": [
  {
   "cell_type": "markdown",
   "metadata": {},
   "source": [
    "# MSAL\n",
    "\n",
    "```bash\n",
    "pip install msal\n",
    "```"
   ]
  },
  {
   "cell_type": "code",
   "execution_count": 8,
   "metadata": {},
   "outputs": [],
   "source": [
    "import os\n",
    "from dotenv import load_dotenv\n",
    "import msal\n",
    "import logging\n",
    "\n",
    "load_dotenv()\n",
    "authority = os.environ[\"AUTHORITY\"]                      ##https://login.microsoftonline.com/{TENANT ID}\n",
    "client_id = os.environ[\"CLIENT_ID\"]                      ##ENTER THE CLIENT ID OF YOUR SERVICE PRINCIPAL\n",
    "client_secret = os.environ[\"CLIENT_SECRETE\"]             ##ENTER THE CLIENT SECRET OF YOUR SERVICE PRINCIPAL"
   ]
  },
  {
   "cell_type": "code",
   "execution_count": 15,
   "metadata": {},
   "outputs": [
    {
     "name": "stdout",
     "output_type": "stream",
     "text": [
      "Bearer\n"
     ]
    }
   ],
   "source": [
    "app = msal.ConfidentialClientApplication(\n",
    "    client_id, authority=authority,\n",
    "    client_credential=client_secret)\n",
    "\n",
    "# The pattern to acquire a token looks like this.\n",
    "result = None\n",
    "\n",
    "# First, the code looks up a token from the cache.\n",
    "# Because we're looking for a token for the current app, not for a user,\n",
    "# use None for the account parameter.\n",
    "result = app.acquire_token_silent([\"https://graph.microsoft.com/.default\"], account=None)\n",
    "\n",
    "if not result:\n",
    "    logging.info(\"No suitable token exists in cache. Let's get a new one from AAD.\")\n",
    "    result = app.acquire_token_for_client(scopes=[\"https://graph.microsoft.com/.default\"])\n",
    "\n",
    "if \"access_token\" in result:\n",
    "    # Call a protected API with the access token.\n",
    "    print(result[\"token_type\"])\n",
    "else:\n",
    "    print(result.get(\"error\"))\n",
    "    print(result.get(\"error_description\"))\n",
    "    print(result.get(\"correlation_id\"))  # You might need this when reporting a bug.\n"
   ]
  },
  {
   "cell_type": "code",
   "execution_count": null,
   "metadata": {},
   "outputs": [],
   "source": []
  },
  {
   "cell_type": "code",
   "execution_count": null,
   "metadata": {},
   "outputs": [],
   "source": []
  },
  {
   "cell_type": "code",
   "execution_count": null,
   "metadata": {},
   "outputs": [],
   "source": []
  },
  {
   "cell_type": "code",
   "execution_count": null,
   "metadata": {},
   "outputs": [],
   "source": []
  },
  {
   "cell_type": "code",
   "execution_count": null,
   "metadata": {},
   "outputs": [],
   "source": []
  },
  {
   "cell_type": "code",
   "execution_count": null,
   "metadata": {},
   "outputs": [],
   "source": []
  }
 ],
 "metadata": {
  "kernelspec": {
   "display_name": "Python 3",
   "language": "python",
   "name": "python3"
  },
  "language_info": {
   "codemirror_mode": {
    "name": "ipython",
    "version": 3
   },
   "file_extension": ".py",
   "mimetype": "text/x-python",
   "name": "python",
   "nbconvert_exporter": "python",
   "pygments_lexer": "ipython3",
   "version": "3.7.5"
  }
 },
 "nbformat": 4,
 "nbformat_minor": 4
}
