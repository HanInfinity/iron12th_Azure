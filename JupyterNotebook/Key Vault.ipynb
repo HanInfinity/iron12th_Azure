{
 "cells": [
  {
   "cell_type": "markdown",
   "metadata": {},
   "source": [
    "# Install\n",
    "\n",
    "```bash\n",
    "pip install azure-keyvault-keys\n",
    "pip install azure-keyvault-secrets\n",
    "pip install azure-keyvault-certificates\n",
    "pip install azure-identity\n",
    "```\n"
   ]
  },
  {
   "cell_type": "markdown",
   "metadata": {},
   "source": [
    "# Test\n",
    "\n",
    "Azure有提供AAD驗證方式，但建議只在開發環境中中使用這個驗證方式，正式產品的話建議使用憑證或是MSI方式進行驗證。"
   ]
  },
  {
   "cell_type": "code",
   "execution_count": 6,
   "metadata": {},
   "outputs": [],
   "source": [
    "import os\n",
    "from dotenv import load_dotenv\n",
    "from azure.identity import ClientSecretCredential\n",
    "\n",
    "load_dotenv()\n",
    "tenant_id = os.environ[\"TENANT_ID\"]                      ##ENTER AZURE TENANT ID\n",
    "client_id = os.environ[\"CLIENT_ID\"]                      ##ENTER THE CLIENT ID OF YOUR SERVICE PRINCIPAL\n",
    "client_secret = os.environ[\"CLIENT_SECRETE\"]             ##ENTER THE CLIENT SECRET OF YOUR SERVICE PRINCIPAL\n",
    "vault_name = \"tatamo\"\n",
    "\n",
    "vault_url=f\"https://{vault_name}.vault.azure.net/\"\n",
    "#AUTHENTICATION TO Azure Active Directory USING CLIENT ID AND CLIENT CERTIFICATE (GET Azure Active Directory TOKEN)\n",
    "token = ClientSecretCredential(tenant_id=tenant_id, client_id=client_id, client_secret=client_secret)"
   ]
  },
  {
   "cell_type": "markdown",
   "metadata": {},
   "source": [
    "# Keys"
   ]
  },
  {
   "cell_type": "code",
   "execution_count": 3,
   "metadata": {},
   "outputs": [
    {
     "name": "stdout",
     "output_type": "stream",
     "text": [
      "ssh\n"
     ]
    }
   ],
   "source": [
    "from azure.identity import DefaultAzureCredential\n",
    "from azure.keyvault.keys import KeyClient\n",
    "\n",
    "# 建立Key Client\n",
    "key_client = KeyClient(vault_url=f\"https://{vault_name}.vault.azure.net/\", credential=token)\n",
    "\n",
    "key = key_client.get_key(\"ssh\")\n",
    "print(key.name)"
   ]
  },
  {
   "cell_type": "markdown",
   "metadata": {},
   "source": [
    "# Secretes"
   ]
  },
  {
   "cell_type": "code",
   "execution_count": 8,
   "metadata": {},
   "outputs": [
    {
     "name": "stdout",
     "output_type": "stream",
     "text": [
      "hVFkk965BuUv\n"
     ]
    }
   ],
   "source": [
    "from azure.keyvault.secrets import SecretClient\n",
    "\n",
    "secret_name = \"ExamplePassword\"\n",
    "\n",
    "# 建立SecretClient\n",
    "client = SecretClient(vault_url=vault_url, credential=token)\n",
    "\n",
    "# 取得名為 secret_name 的內容\n",
    "secret = client.get_secret(secret_name)\n",
    "\n",
    "# 輸出secret.value\n",
    "print(secret.value)"
   ]
  },
  {
   "cell_type": "code",
   "execution_count": null,
   "metadata": {},
   "outputs": [],
   "source": [
    "# 正式環境使用的方式，需先讓應用程式與Key Vault建立連線\n",
    "from azure.keyvault.secrets import SecretClient\n",
    "\n",
    "keyVaultName = \"tatamo\"\n",
    "KVUri = f\"https://{keyVaultName}.vault.azure.net\"\n",
    "secretName = \"MY-NAME\"\n",
    "\n",
    "credential = DefaultAzureCredential()\n",
    "client = SecretClient(vault_url=KVUri, credential=credential)\n",
    "retrieved_secret = client.get_secret(secretName)\n",
    "\n",
    "print(f\"The value of secret '{secretName}' in '{keyVaultName}' is: '{retrieved_secret.value}'\")"
   ]
  },
  {
   "cell_type": "markdown",
   "metadata": {},
   "source": [
    "# Certificates"
   ]
  },
  {
   "cell_type": "code",
   "execution_count": 14,
   "metadata": {},
   "outputs": [
    {
     "name": "stdout",
     "output_type": "stream",
     "text": [
      "ExampleCertificate\n"
     ]
    }
   ],
   "source": [
    "from azure.keyvault.certificates import CertificateClient\n",
    "\n",
    "certificateName = \"ExampleCertificate\"\n",
    "\n",
    "client = CertificateClient(vault_url=vault_url, credential=token)\n",
    "retrieved_certificate = client.get_certificate(certificateName)\n",
    "\n",
    "print(retrieved_certificate.name)"
   ]
  }
 ],
 "metadata": {
  "kernelspec": {
   "display_name": "Python 3",
   "language": "python",
   "name": "python3"
  },
  "language_info": {
   "codemirror_mode": {
    "name": "ipython",
    "version": 3
   },
   "file_extension": ".py",
   "mimetype": "text/x-python",
   "name": "python",
   "nbconvert_exporter": "python",
   "pygments_lexer": "ipython3",
   "version": "3.7.5"
  }
 },
 "nbformat": 4,
 "nbformat_minor": 4
}
