{
 "cells": [
  {
   "cell_type": "markdown",
   "metadata": {},
   "source": [
    "# Queue"
   ]
  },
  {
   "cell_type": "code",
   "execution_count": 3,
   "metadata": {},
   "outputs": [],
   "source": [
    "from azure.servicebus import ServiceBusClient, Message\n",
    "\n",
    "import os\n",
    "from dotenv import load_dotenv\n",
    "\n",
    "load_dotenv()\n",
    "connstr = os.environ['SERVICE_BUS_CONN_STR']\n",
    "queue_name = os.environ['SERVICE_BUS_QUEUE_NAME']\n",
    "\n",
    "with ServiceBusClient.from_connection_string(connstr) as client:\n",
    "    with client.get_queue_sender(queue_name) as sender:\n",
    "        # Sending a single message\n",
    "        single_message = Message(\"Single message\")\n",
    "        sender.send_messages(single_message)\n",
    "\n",
    "        # Sending a list of messages\n",
    "        messages = [Message(\"First message\"), Message(\"Second message\")]\n",
    "        sender.send_messages(messages)"
   ]
  },
  {
   "cell_type": "markdown",
   "metadata": {},
   "source": [
    "傳送包含數字的訊息"
   ]
  },
  {
   "cell_type": "code",
   "execution_count": 27,
   "metadata": {},
   "outputs": [
    {
     "name": "stdout",
     "output_type": "stream",
     "text": [
      "0_Single message\n",
      "1_Single message\n",
      "2_Single message\n",
      "3_Single message\n",
      "4_Single message\n",
      "5_Single message\n",
      "6_Single message\n"
     ]
    }
   ],
   "source": [
    "from azure.servicebus import ServiceBusClient, Message\n",
    "\n",
    "import os\n",
    "connstr = os.environ['SERVICE_BUS_CONN_STR']\n",
    "queue_name = os.environ['SERVICE_BUS_QUEUE_NAME']\n",
    "\n",
    "with ServiceBusClient.from_connection_string(connstr) as client:\n",
    "    with client.get_queue_sender(queue_name) as sender:\n",
    "        i = 0\n",
    "        while i <= 6:\n",
    "        # Sending a single message\n",
    "            msg = f'{i}_Single message'\n",
    "            single_message = Message(msg)\n",
    "            sender.send_messages(single_message)\n",
    "            print(msg)\n",
    "            i += 1"
   ]
  },
  {
   "cell_type": "code",
   "execution_count": 28,
   "metadata": {},
   "outputs": [
    {
     "name": "stdout",
     "output_type": "stream",
     "text": [
      "0_Single message\n",
      "1_Single message\n",
      "2_Single message\n",
      "3_Single message\n",
      "4_Single message\n",
      "5_Single message\n",
      "6_Single message\n"
     ]
    }
   ],
   "source": [
    "from azure.servicebus import ServiceBusClient\n",
    "\n",
    "import os\n",
    "connstr = os.environ['SERVICE_BUS_CONN_STR']\n",
    "queue_name = os.environ['SERVICE_BUS_QUEUE_NAME']\n",
    "\n",
    "with ServiceBusClient.from_connection_string(connstr) as client:\n",
    "    # max_wait_time specifies how long the receiver should wait with no incoming messages before stopping receipt.  \n",
    "    # Default is None; to receive forever.\n",
    "    with client.get_queue_receiver(queue_name, max_wait_time=30) as receiver:\n",
    "        for msg in receiver:  # ServiceBusReceiver instance is a generator. This is equivilent to get_streaming_message_iter().\n",
    "            print(str(msg))\n",
    "            # If it is desired to halt receiving early, one can break out of the loop here safely.\n",
    "            msg.complete()"
   ]
  },
  {
   "cell_type": "markdown",
   "metadata": {},
   "source": [
    "# Topic"
   ]
  },
  {
   "cell_type": "code",
   "execution_count": 4,
   "metadata": {},
   "outputs": [
    {
     "name": "stdout",
     "output_type": "stream",
     "text": [
      "Data0\n",
      "Data1\n",
      "Data2\n",
      "Data3\n",
      "Data4\n",
      "Data5\n"
     ]
    }
   ],
   "source": [
    "from azure.servicebus import ServiceBusClient, Message\n",
    "\n",
    "import os\n",
    "connstr = os.environ['SERVICE_BUS_CONN_STR']\n",
    "topic_name = os.environ['SERVICE_BUS_TOPIC_NAME']\n",
    "subscription_name = os.environ['SERVICE_BUS_SUBSCRIPTION_NAME']\n",
    "\n",
    "with ServiceBusClient.from_connection_string(connstr) as client:\n",
    "    i = 0\n",
    "    while i <= 5:\n",
    "        with client.get_topic_sender(topic_name) as sender:\n",
    "            msg=f\"Data{i}\"\n",
    "            sender.send_messages(Message(msg))\n",
    "            print(msg)\n",
    "        i += 1"
   ]
  },
  {
   "cell_type": "code",
   "execution_count": null,
   "metadata": {
    "scrolled": true
   },
   "outputs": [
    {
     "name": "stdout",
     "output_type": "stream",
     "text": [
      "Data0\n",
      "Data1\n",
      "Data2\n",
      "Data3\n",
      "Data4\n",
      "Data5\n"
     ]
    }
   ],
   "source": [
    "from azure.servicebus import ServiceBusClient, Message\n",
    "\n",
    "import os\n",
    "connstr = os.environ['SERVICE_BUS_CONN_STR']\n",
    "topic_name = os.environ['SERVICE_BUS_TOPIC_NAME']\n",
    "subscription_name = os.environ['SERVICE_BUS_SUBSCRIPTION_NAME']\n",
    "\n",
    "with ServiceBusClient.from_connection_string(connstr) as client:\n",
    "    # If session_id is null here, will receive from the first available session.\n",
    "    with client.get_subscription_receiver(topic_name, subscription_name) as receiver:\n",
    "        for msg in receiver:\n",
    "            print(str(msg))\n",
    "            msg.complete()"
   ]
  },
  {
   "cell_type": "code",
   "execution_count": null,
   "metadata": {},
   "outputs": [],
   "source": []
  }
 ],
 "metadata": {
  "kernelspec": {
   "display_name": "Python 3",
   "language": "python",
   "name": "python3"
  },
  "language_info": {
   "codemirror_mode": {
    "name": "ipython",
    "version": 3
   },
   "file_extension": ".py",
   "mimetype": "text/x-python",
   "name": "python",
   "nbconvert_exporter": "python",
   "pygments_lexer": "ipython3",
   "version": "3.7.6"
  }
 },
 "nbformat": 4,
 "nbformat_minor": 2
}
